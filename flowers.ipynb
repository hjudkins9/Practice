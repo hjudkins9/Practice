{
 "cells": [
  {
   "cell_type": "code",
   "execution_count": 10,
   "id": "7e6346d0",
   "metadata": {},
   "outputs": [
    {
     "name": "stdout",
     "output_type": "stream",
     "text": [
      "3670\n",
      "/home/codespace/.keras/datasets/flower_photos.tgz\n"
     ]
    },
    {
     "ename": "IndexError",
     "evalue": "list index out of range",
     "output_type": "error",
     "traceback": [
      "\u001b[31m---------------------------------------------------------------------------\u001b[39m",
      "\u001b[31mIndexError\u001b[39m                                Traceback (most recent call last)",
      "\u001b[36mCell\u001b[39m\u001b[36m \u001b[39m\u001b[32mIn[10]\u001b[39m\u001b[32m, line 23\u001b[39m\n\u001b[32m     20\u001b[39m \u001b[38;5;28mprint\u001b[39m(data_dir)\n\u001b[32m     22\u001b[39m roses = \u001b[38;5;28mlist\u001b[39m(data_dir.glob(\u001b[33m'\u001b[39m\u001b[33m*/roses/*\u001b[39m\u001b[33m'\u001b[39m))\n\u001b[32m---> \u001b[39m\u001b[32m23\u001b[39m PIL.Image.open(\u001b[38;5;28mstr\u001b[39m(\u001b[43mroses\u001b[49m\u001b[43m[\u001b[49m\u001b[32;43m641\u001b[39;49m\u001b[43m]\u001b[49m))\n",
      "\u001b[31mIndexError\u001b[39m: list index out of range"
     ]
    }
   ],
   "source": [
    "\n",
    "import numpy as np\n",
    "import os\n",
    "import PIL\n",
    "import PIL.Image\n",
    "import tensorflow as tf\n",
    "import tensorflow_datasets as tfds\n",
    "import pathlib\n",
    "\n",
    "\n",
    "# Downloading the flower photos from tensorflow \n",
    "dataset_url = \"https://storage.googleapis.com/download.tensorflow.org/example_images/flower_photos.tgz\"\n",
    "archive = tf.keras.utils.get_file(origin=dataset_url, extract=True)\n",
    "\n",
    "# Finding the directory with the flower photos\n",
    "data_dir = pathlib.Path(archive)\n",
    "\n",
    "image_count = len(list(data_dir.glob('*/*/*.jpg')))\n",
    "print(image_count)\n",
    "\n",
    "print(data_dir)\n",
    "\n",
    "roses = list(data_dir.glob('*/roses/*'))\n",
    "PIL.Image.open(str(roses[641]))"
   ]
  }
 ],
 "metadata": {
  "kernelspec": {
   "display_name": "Python 3",
   "language": "python",
   "name": "python3"
  },
  "language_info": {
   "codemirror_mode": {
    "name": "ipython",
    "version": 3
   },
   "file_extension": ".py",
   "mimetype": "text/x-python",
   "name": "python",
   "nbconvert_exporter": "python",
   "pygments_lexer": "ipython3",
   "version": "3.12.1"
  }
 },
 "nbformat": 4,
 "nbformat_minor": 5
}
